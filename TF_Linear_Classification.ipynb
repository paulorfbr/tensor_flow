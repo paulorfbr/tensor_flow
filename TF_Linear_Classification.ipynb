{
  "nbformat": 4,
  "nbformat_minor": 0,
  "metadata": {
    "colab": {
      "provenance": [],
      "authorship_tag": "ABX9TyNc3hgRdBM+vjq6TVOVYiNm",
      "include_colab_link": true
    },
    "kernelspec": {
      "name": "python3",
      "display_name": "Python 3"
    },
    "language_info": {
      "name": "python"
    }
  },
  "cells": [
    {
      "cell_type": "markdown",
      "metadata": {
        "id": "view-in-github",
        "colab_type": "text"
      },
      "source": [
        "<a href=\"https://colab.research.google.com/github/paulorfbr/tensor_flow_course_deep_learning/blob/classification/TF_Linear_Classification.ipynb\" target=\"_parent\"><img src=\"https://colab.research.google.com/assets/colab-badge.svg\" alt=\"Open In Colab\"/></a>"
      ]
    },
    {
      "cell_type": "code",
      "execution_count": null,
      "metadata": {
        "colab": {
          "base_uri": "https://localhost:8080/"
        },
        "id": "sxLVZcfP5lNK",
        "outputId": "4f8755a5-dd77-48f8-9b4e-c81bfaa60363"
      },
      "outputs": [
        {
          "output_type": "stream",
          "name": "stdout",
          "text": [
            "Colab only includes TensorFlow 2.x; %tensorflow_version has no effect.\n",
            "<module 'tensorflow._api.v2.version' from '/usr/local/lib/python3.10/dist-packages/tensorflow/_api/v2/version/__init__.py'>\n"
          ]
        }
      ],
      "source": [
        "try:\n",
        "  %tensorflow_version 2.x\n",
        "except Exception:\n",
        "  pass\n",
        "\n",
        "import tensorflow as tf\n",
        "print(tf.version)"
      ]
    },
    {
      "cell_type": "code",
      "source": [
        "#load data\n",
        "from sklearn.datasets import load_breast_cancer"
      ],
      "metadata": {
        "id": "q4guRNb66Mwl"
      },
      "execution_count": null,
      "outputs": []
    },
    {
      "cell_type": "code",
      "source": [
        "data = load_breast_cancer()"
      ],
      "metadata": {
        "id": "O_aqlGop6Mxo"
      },
      "execution_count": null,
      "outputs": []
    },
    {
      "cell_type": "code",
      "source": [
        "data.keys()"
      ],
      "metadata": {
        "colab": {
          "base_uri": "https://localhost:8080/"
        },
        "id": "becl8jQz6M12",
        "outputId": "02d0c493-dc78-4688-f222-15822d0d5dbd"
      },
      "execution_count": null,
      "outputs": [
        {
          "output_type": "execute_result",
          "data": {
            "text/plain": [
              "dict_keys(['data', 'target', 'frame', 'target_names', 'DESCR', 'feature_names', 'filename', 'data_module'])"
            ]
          },
          "metadata": {},
          "execution_count": 5
        }
      ]
    },
    {
      "cell_type": "code",
      "source": [
        "data.data.shape"
      ],
      "metadata": {
        "colab": {
          "base_uri": "https://localhost:8080/"
        },
        "id": "1K_GCabv63VS",
        "outputId": "638e7e54-6939-4753-c40c-1ad0e2bba73e"
      },
      "execution_count": null,
      "outputs": [
        {
          "output_type": "execute_result",
          "data": {
            "text/plain": [
              "(569, 30)"
            ]
          },
          "metadata": {},
          "execution_count": 6
        }
      ]
    },
    {
      "cell_type": "code",
      "source": [
        "data.target.shape"
      ],
      "metadata": {
        "colab": {
          "base_uri": "https://localhost:8080/"
        },
        "id": "fRm3OjjR7EWW",
        "outputId": "4d3a1859-85af-4086-d076-ceeaeca1d930"
      },
      "execution_count": null,
      "outputs": [
        {
          "output_type": "execute_result",
          "data": {
            "text/plain": [
              "(569,)"
            ]
          },
          "metadata": {},
          "execution_count": 7
        }
      ]
    },
    {
      "cell_type": "code",
      "source": [
        "data.target_names"
      ],
      "metadata": {
        "colab": {
          "base_uri": "https://localhost:8080/"
        },
        "id": "AMd5Wyn87epX",
        "outputId": "8cbb3f3c-dc56-453f-fc6f-9c4c50bde016"
      },
      "execution_count": null,
      "outputs": [
        {
          "output_type": "execute_result",
          "data": {
            "text/plain": [
              "array(['malignant', 'benign'], dtype='<U9')"
            ]
          },
          "metadata": {},
          "execution_count": 8
        }
      ]
    },
    {
      "cell_type": "code",
      "source": [
        "data.feature_names"
      ],
      "metadata": {
        "colab": {
          "base_uri": "https://localhost:8080/"
        },
        "id": "WFPl_0qm7jMU",
        "outputId": "be74021e-c247-4ec3-f122-e30075b57f8c"
      },
      "execution_count": null,
      "outputs": [
        {
          "output_type": "execute_result",
          "data": {
            "text/plain": [
              "array(['mean radius', 'mean texture', 'mean perimeter', 'mean area',\n",
              "       'mean smoothness', 'mean compactness', 'mean concavity',\n",
              "       'mean concave points', 'mean symmetry', 'mean fractal dimension',\n",
              "       'radius error', 'texture error', 'perimeter error', 'area error',\n",
              "       'smoothness error', 'compactness error', 'concavity error',\n",
              "       'concave points error', 'symmetry error',\n",
              "       'fractal dimension error', 'worst radius', 'worst texture',\n",
              "       'worst perimeter', 'worst area', 'worst smoothness',\n",
              "       'worst compactness', 'worst concavity', 'worst concave points',\n",
              "       'worst symmetry', 'worst fractal dimension'], dtype='<U23')"
            ]
          },
          "metadata": {},
          "execution_count": 9
        }
      ]
    },
    {
      "cell_type": "code",
      "source": [
        "from sklearn.model_selection import train_test_split\n",
        "X_train, X_test, y_train, y_test = train_test_split(data.data, data.target, test_size=0.33, random_state = 13)"
      ],
      "metadata": {
        "id": "D9cMXMIb7sCv"
      },
      "execution_count": null,
      "outputs": []
    },
    {
      "cell_type": "code",
      "source": [
        "X_train.shape"
      ],
      "metadata": {
        "colab": {
          "base_uri": "https://localhost:8080/"
        },
        "id": "jF2bsZVi7qz4",
        "outputId": "67bf56c0-6c6d-467e-c185-839cbd8d7cab"
      },
      "execution_count": null,
      "outputs": [
        {
          "output_type": "execute_result",
          "data": {
            "text/plain": [
              "(381, 30)"
            ]
          },
          "metadata": {},
          "execution_count": 11
        }
      ]
    },
    {
      "cell_type": "code",
      "source": [
        "X_test.shape"
      ],
      "metadata": {
        "colab": {
          "base_uri": "https://localhost:8080/"
        },
        "id": "5bQVJuAm8X5q",
        "outputId": "fe31e080-43e1-4782-919c-b2ed1ae1990e"
      },
      "execution_count": null,
      "outputs": [
        {
          "output_type": "execute_result",
          "data": {
            "text/plain": [
              "(188, 30)"
            ]
          },
          "metadata": {},
          "execution_count": 12
        }
      ]
    },
    {
      "cell_type": "code",
      "source": [
        "N, D = X_train.shape"
      ],
      "metadata": {
        "id": "kFnNtiQG8cjN"
      },
      "execution_count": null,
      "outputs": []
    },
    {
      "cell_type": "code",
      "source": [
        "from sklearn.preprocessing import StandardScaler\n",
        "scaler = StandardScaler()\n",
        "X_train = scaler.fit_transform(X_train)\n",
        "X_test = scaler.transform(X_test)"
      ],
      "metadata": {
        "id": "tkQa1piX8nEu"
      },
      "execution_count": null,
      "outputs": []
    },
    {
      "cell_type": "code",
      "source": [
        "model = tf.keras.models.Sequential([\n",
        "    tf.keras.layers.Input(shape=(D,)),\n",
        "    tf.keras.layers.Dense(1, activation='sigmoid')\n",
        "])"
      ],
      "metadata": {
        "id": "x9bzcHSn9I7E"
      },
      "execution_count": null,
      "outputs": []
    },
    {
      "cell_type": "code",
      "source": [
        "model.compile(optimizer='adam',\n",
        "              loss='binary_crossentropy',\n",
        "              metrics=['accuracy'])"
      ],
      "metadata": {
        "id": "by8fWBlb9vka"
      },
      "execution_count": null,
      "outputs": []
    },
    {
      "cell_type": "code",
      "source": [
        "R = model.fit(X_train, y_train, validation_data=(X_test, y_test), epochs=100)"
      ],
      "metadata": {
        "colab": {
          "base_uri": "https://localhost:8080/"
        },
        "id": "2kYQJPgs-I4n",
        "outputId": "65b69218-c85a-4238-cb3e-38f4e85662e5"
      },
      "execution_count": null,
      "outputs": [
        {
          "output_type": "stream",
          "name": "stdout",
          "text": [
            "Epoch 1/100\n",
            "12/12 [==============================] - 1s 15ms/step - loss: 0.8295 - accuracy: 0.5118 - val_loss: 0.7988 - val_accuracy: 0.5000\n",
            "Epoch 2/100\n",
            "12/12 [==============================] - 0s 5ms/step - loss: 0.7491 - accuracy: 0.5564 - val_loss: 0.7278 - val_accuracy: 0.5851\n",
            "Epoch 3/100\n",
            "12/12 [==============================] - 0s 4ms/step - loss: 0.6810 - accuracy: 0.5853 - val_loss: 0.6655 - val_accuracy: 0.6223\n",
            "Epoch 4/100\n",
            "12/12 [==============================] - 0s 5ms/step - loss: 0.6217 - accuracy: 0.6352 - val_loss: 0.6127 - val_accuracy: 0.6436\n",
            "Epoch 5/100\n",
            "12/12 [==============================] - 0s 4ms/step - loss: 0.5712 - accuracy: 0.6982 - val_loss: 0.5684 - val_accuracy: 0.6702\n",
            "Epoch 6/100\n",
            "12/12 [==============================] - 0s 5ms/step - loss: 0.5303 - accuracy: 0.7375 - val_loss: 0.5295 - val_accuracy: 0.7128\n",
            "Epoch 7/100\n",
            "12/12 [==============================] - 0s 4ms/step - loss: 0.4938 - accuracy: 0.7690 - val_loss: 0.4966 - val_accuracy: 0.7500\n",
            "Epoch 8/100\n",
            "12/12 [==============================] - 0s 3ms/step - loss: 0.4634 - accuracy: 0.7900 - val_loss: 0.4679 - val_accuracy: 0.7713\n",
            "Epoch 9/100\n",
            "12/12 [==============================] - 0s 5ms/step - loss: 0.4368 - accuracy: 0.8163 - val_loss: 0.4430 - val_accuracy: 0.7979\n",
            "Epoch 10/100\n",
            "12/12 [==============================] - 0s 5ms/step - loss: 0.4142 - accuracy: 0.8294 - val_loss: 0.4210 - val_accuracy: 0.8138\n",
            "Epoch 11/100\n",
            "12/12 [==============================] - 0s 4ms/step - loss: 0.3939 - accuracy: 0.8425 - val_loss: 0.4011 - val_accuracy: 0.8351\n",
            "Epoch 12/100\n",
            "12/12 [==============================] - 0s 3ms/step - loss: 0.3761 - accuracy: 0.8583 - val_loss: 0.3834 - val_accuracy: 0.8511\n",
            "Epoch 13/100\n",
            "12/12 [==============================] - 0s 3ms/step - loss: 0.3602 - accuracy: 0.8661 - val_loss: 0.3673 - val_accuracy: 0.8670\n",
            "Epoch 14/100\n",
            "12/12 [==============================] - 0s 5ms/step - loss: 0.3458 - accuracy: 0.8688 - val_loss: 0.3528 - val_accuracy: 0.8723\n",
            "Epoch 15/100\n",
            "12/12 [==============================] - 0s 5ms/step - loss: 0.3328 - accuracy: 0.8688 - val_loss: 0.3397 - val_accuracy: 0.8777\n",
            "Epoch 16/100\n",
            "12/12 [==============================] - 0s 3ms/step - loss: 0.3210 - accuracy: 0.8688 - val_loss: 0.3276 - val_accuracy: 0.8830\n",
            "Epoch 17/100\n",
            "12/12 [==============================] - 0s 4ms/step - loss: 0.3103 - accuracy: 0.8740 - val_loss: 0.3162 - val_accuracy: 0.8883\n",
            "Epoch 18/100\n",
            "12/12 [==============================] - 0s 4ms/step - loss: 0.3004 - accuracy: 0.8740 - val_loss: 0.3056 - val_accuracy: 0.8883\n",
            "Epoch 19/100\n",
            "12/12 [==============================] - 0s 3ms/step - loss: 0.2912 - accuracy: 0.8793 - val_loss: 0.2958 - val_accuracy: 0.8989\n",
            "Epoch 20/100\n",
            "12/12 [==============================] - 0s 5ms/step - loss: 0.2827 - accuracy: 0.8845 - val_loss: 0.2865 - val_accuracy: 0.8989\n",
            "Epoch 21/100\n",
            "12/12 [==============================] - 0s 5ms/step - loss: 0.2747 - accuracy: 0.8845 - val_loss: 0.2779 - val_accuracy: 0.8989\n",
            "Epoch 22/100\n",
            "12/12 [==============================] - 0s 3ms/step - loss: 0.2672 - accuracy: 0.8845 - val_loss: 0.2700 - val_accuracy: 0.9096\n",
            "Epoch 23/100\n",
            "12/12 [==============================] - 0s 4ms/step - loss: 0.2601 - accuracy: 0.8871 - val_loss: 0.2626 - val_accuracy: 0.9149\n",
            "Epoch 24/100\n",
            "12/12 [==============================] - 0s 3ms/step - loss: 0.2536 - accuracy: 0.8898 - val_loss: 0.2555 - val_accuracy: 0.9202\n",
            "Epoch 25/100\n",
            "12/12 [==============================] - 0s 5ms/step - loss: 0.2474 - accuracy: 0.8898 - val_loss: 0.2488 - val_accuracy: 0.9202\n",
            "Epoch 26/100\n",
            "12/12 [==============================] - 0s 5ms/step - loss: 0.2417 - accuracy: 0.8950 - val_loss: 0.2423 - val_accuracy: 0.9202\n",
            "Epoch 27/100\n",
            "12/12 [==============================] - 0s 3ms/step - loss: 0.2360 - accuracy: 0.8950 - val_loss: 0.2366 - val_accuracy: 0.9255\n",
            "Epoch 28/100\n",
            "12/12 [==============================] - 0s 3ms/step - loss: 0.2310 - accuracy: 0.8976 - val_loss: 0.2306 - val_accuracy: 0.9255\n",
            "Epoch 29/100\n",
            "12/12 [==============================] - 0s 3ms/step - loss: 0.2259 - accuracy: 0.9003 - val_loss: 0.2254 - val_accuracy: 0.9255\n",
            "Epoch 30/100\n",
            "12/12 [==============================] - 0s 4ms/step - loss: 0.2213 - accuracy: 0.9055 - val_loss: 0.2201 - val_accuracy: 0.9309\n",
            "Epoch 31/100\n",
            "12/12 [==============================] - 0s 4ms/step - loss: 0.2167 - accuracy: 0.9108 - val_loss: 0.2155 - val_accuracy: 0.9309\n",
            "Epoch 32/100\n",
            "12/12 [==============================] - 0s 4ms/step - loss: 0.2125 - accuracy: 0.9108 - val_loss: 0.2108 - val_accuracy: 0.9362\n",
            "Epoch 33/100\n",
            "12/12 [==============================] - 0s 4ms/step - loss: 0.2085 - accuracy: 0.9108 - val_loss: 0.2063 - val_accuracy: 0.9415\n",
            "Epoch 34/100\n",
            "12/12 [==============================] - 0s 3ms/step - loss: 0.2045 - accuracy: 0.9160 - val_loss: 0.2022 - val_accuracy: 0.9468\n",
            "Epoch 35/100\n",
            "12/12 [==============================] - 0s 3ms/step - loss: 0.2010 - accuracy: 0.9160 - val_loss: 0.1980 - val_accuracy: 0.9521\n",
            "Epoch 36/100\n",
            "12/12 [==============================] - 0s 3ms/step - loss: 0.1974 - accuracy: 0.9160 - val_loss: 0.1941 - val_accuracy: 0.9521\n",
            "Epoch 37/100\n",
            "12/12 [==============================] - 0s 3ms/step - loss: 0.1939 - accuracy: 0.9213 - val_loss: 0.1905 - val_accuracy: 0.9574\n",
            "Epoch 38/100\n",
            "12/12 [==============================] - 0s 5ms/step - loss: 0.1908 - accuracy: 0.9239 - val_loss: 0.1871 - val_accuracy: 0.9574\n",
            "Epoch 39/100\n",
            "12/12 [==============================] - 0s 4ms/step - loss: 0.1877 - accuracy: 0.9265 - val_loss: 0.1837 - val_accuracy: 0.9574\n",
            "Epoch 40/100\n",
            "12/12 [==============================] - 0s 5ms/step - loss: 0.1847 - accuracy: 0.9291 - val_loss: 0.1805 - val_accuracy: 0.9574\n",
            "Epoch 41/100\n",
            "12/12 [==============================] - 0s 3ms/step - loss: 0.1819 - accuracy: 0.9344 - val_loss: 0.1774 - val_accuracy: 0.9574\n",
            "Epoch 42/100\n",
            "12/12 [==============================] - 0s 3ms/step - loss: 0.1791 - accuracy: 0.9344 - val_loss: 0.1744 - val_accuracy: 0.9574\n",
            "Epoch 43/100\n",
            "12/12 [==============================] - 0s 3ms/step - loss: 0.1764 - accuracy: 0.9344 - val_loss: 0.1717 - val_accuracy: 0.9574\n",
            "Epoch 44/100\n",
            "12/12 [==============================] - 0s 3ms/step - loss: 0.1739 - accuracy: 0.9423 - val_loss: 0.1690 - val_accuracy: 0.9574\n",
            "Epoch 45/100\n",
            "12/12 [==============================] - 0s 3ms/step - loss: 0.1715 - accuracy: 0.9449 - val_loss: 0.1665 - val_accuracy: 0.9574\n",
            "Epoch 46/100\n",
            "12/12 [==============================] - 0s 5ms/step - loss: 0.1692 - accuracy: 0.9449 - val_loss: 0.1639 - val_accuracy: 0.9628\n",
            "Epoch 47/100\n",
            "12/12 [==============================] - 0s 5ms/step - loss: 0.1669 - accuracy: 0.9449 - val_loss: 0.1615 - val_accuracy: 0.9681\n",
            "Epoch 48/100\n",
            "12/12 [==============================] - 0s 4ms/step - loss: 0.1647 - accuracy: 0.9475 - val_loss: 0.1592 - val_accuracy: 0.9628\n",
            "Epoch 49/100\n",
            "12/12 [==============================] - 0s 4ms/step - loss: 0.1627 - accuracy: 0.9501 - val_loss: 0.1569 - val_accuracy: 0.9628\n",
            "Epoch 50/100\n",
            "12/12 [==============================] - 0s 3ms/step - loss: 0.1606 - accuracy: 0.9554 - val_loss: 0.1548 - val_accuracy: 0.9628\n",
            "Epoch 51/100\n",
            "12/12 [==============================] - 0s 3ms/step - loss: 0.1587 - accuracy: 0.9554 - val_loss: 0.1527 - val_accuracy: 0.9628\n",
            "Epoch 52/100\n",
            "12/12 [==============================] - 0s 5ms/step - loss: 0.1567 - accuracy: 0.9580 - val_loss: 0.1508 - val_accuracy: 0.9628\n",
            "Epoch 53/100\n",
            "12/12 [==============================] - 0s 5ms/step - loss: 0.1549 - accuracy: 0.9580 - val_loss: 0.1489 - val_accuracy: 0.9628\n",
            "Epoch 54/100\n",
            "12/12 [==============================] - 0s 5ms/step - loss: 0.1532 - accuracy: 0.9580 - val_loss: 0.1470 - val_accuracy: 0.9628\n",
            "Epoch 55/100\n",
            "12/12 [==============================] - 0s 3ms/step - loss: 0.1515 - accuracy: 0.9580 - val_loss: 0.1452 - val_accuracy: 0.9628\n",
            "Epoch 56/100\n",
            "12/12 [==============================] - 0s 3ms/step - loss: 0.1497 - accuracy: 0.9606 - val_loss: 0.1435 - val_accuracy: 0.9628\n",
            "Epoch 57/100\n",
            "12/12 [==============================] - 0s 3ms/step - loss: 0.1482 - accuracy: 0.9606 - val_loss: 0.1419 - val_accuracy: 0.9681\n",
            "Epoch 58/100\n",
            "12/12 [==============================] - 0s 3ms/step - loss: 0.1466 - accuracy: 0.9606 - val_loss: 0.1402 - val_accuracy: 0.9681\n",
            "Epoch 59/100\n",
            "12/12 [==============================] - 0s 3ms/step - loss: 0.1450 - accuracy: 0.9606 - val_loss: 0.1387 - val_accuracy: 0.9734\n",
            "Epoch 60/100\n",
            "12/12 [==============================] - 0s 3ms/step - loss: 0.1436 - accuracy: 0.9606 - val_loss: 0.1372 - val_accuracy: 0.9734\n",
            "Epoch 61/100\n",
            "12/12 [==============================] - 0s 4ms/step - loss: 0.1422 - accuracy: 0.9606 - val_loss: 0.1357 - val_accuracy: 0.9681\n",
            "Epoch 62/100\n",
            "12/12 [==============================] - 0s 3ms/step - loss: 0.1408 - accuracy: 0.9633 - val_loss: 0.1342 - val_accuracy: 0.9681\n",
            "Epoch 63/100\n",
            "12/12 [==============================] - 0s 3ms/step - loss: 0.1394 - accuracy: 0.9606 - val_loss: 0.1329 - val_accuracy: 0.9681\n",
            "Epoch 64/100\n",
            "12/12 [==============================] - 0s 3ms/step - loss: 0.1381 - accuracy: 0.9606 - val_loss: 0.1315 - val_accuracy: 0.9681\n",
            "Epoch 65/100\n",
            "12/12 [==============================] - 0s 3ms/step - loss: 0.1369 - accuracy: 0.9606 - val_loss: 0.1303 - val_accuracy: 0.9681\n",
            "Epoch 66/100\n",
            "12/12 [==============================] - 0s 3ms/step - loss: 0.1356 - accuracy: 0.9606 - val_loss: 0.1290 - val_accuracy: 0.9681\n",
            "Epoch 67/100\n",
            "12/12 [==============================] - 0s 5ms/step - loss: 0.1343 - accuracy: 0.9633 - val_loss: 0.1278 - val_accuracy: 0.9681\n",
            "Epoch 68/100\n",
            "12/12 [==============================] - 0s 3ms/step - loss: 0.1332 - accuracy: 0.9633 - val_loss: 0.1266 - val_accuracy: 0.9734\n",
            "Epoch 69/100\n",
            "12/12 [==============================] - 0s 5ms/step - loss: 0.1321 - accuracy: 0.9633 - val_loss: 0.1255 - val_accuracy: 0.9734\n",
            "Epoch 70/100\n",
            "12/12 [==============================] - 0s 4ms/step - loss: 0.1309 - accuracy: 0.9633 - val_loss: 0.1244 - val_accuracy: 0.9734\n",
            "Epoch 71/100\n",
            "12/12 [==============================] - 0s 4ms/step - loss: 0.1299 - accuracy: 0.9633 - val_loss: 0.1232 - val_accuracy: 0.9734\n",
            "Epoch 72/100\n",
            "12/12 [==============================] - 0s 3ms/step - loss: 0.1288 - accuracy: 0.9659 - val_loss: 0.1221 - val_accuracy: 0.9734\n",
            "Epoch 73/100\n",
            "12/12 [==============================] - 0s 3ms/step - loss: 0.1277 - accuracy: 0.9659 - val_loss: 0.1212 - val_accuracy: 0.9787\n",
            "Epoch 74/100\n",
            "12/12 [==============================] - 0s 5ms/step - loss: 0.1267 - accuracy: 0.9659 - val_loss: 0.1201 - val_accuracy: 0.9787\n",
            "Epoch 75/100\n",
            "12/12 [==============================] - 0s 5ms/step - loss: 0.1257 - accuracy: 0.9659 - val_loss: 0.1192 - val_accuracy: 0.9787\n",
            "Epoch 76/100\n",
            "12/12 [==============================] - 0s 3ms/step - loss: 0.1247 - accuracy: 0.9659 - val_loss: 0.1183 - val_accuracy: 0.9787\n",
            "Epoch 77/100\n",
            "12/12 [==============================] - 0s 3ms/step - loss: 0.1238 - accuracy: 0.9659 - val_loss: 0.1174 - val_accuracy: 0.9840\n",
            "Epoch 78/100\n",
            "12/12 [==============================] - 0s 4ms/step - loss: 0.1229 - accuracy: 0.9659 - val_loss: 0.1165 - val_accuracy: 0.9840\n",
            "Epoch 79/100\n",
            "12/12 [==============================] - 0s 4ms/step - loss: 0.1220 - accuracy: 0.9659 - val_loss: 0.1156 - val_accuracy: 0.9840\n",
            "Epoch 80/100\n",
            "12/12 [==============================] - 0s 3ms/step - loss: 0.1211 - accuracy: 0.9659 - val_loss: 0.1147 - val_accuracy: 0.9840\n",
            "Epoch 81/100\n",
            "12/12 [==============================] - 0s 3ms/step - loss: 0.1202 - accuracy: 0.9659 - val_loss: 0.1138 - val_accuracy: 0.9840\n",
            "Epoch 82/100\n",
            "12/12 [==============================] - 0s 4ms/step - loss: 0.1194 - accuracy: 0.9633 - val_loss: 0.1131 - val_accuracy: 0.9840\n",
            "Epoch 83/100\n",
            "12/12 [==============================] - 0s 5ms/step - loss: 0.1186 - accuracy: 0.9633 - val_loss: 0.1123 - val_accuracy: 0.9840\n",
            "Epoch 84/100\n",
            "12/12 [==============================] - 0s 3ms/step - loss: 0.1177 - accuracy: 0.9633 - val_loss: 0.1115 - val_accuracy: 0.9840\n",
            "Epoch 85/100\n",
            "12/12 [==============================] - 0s 3ms/step - loss: 0.1170 - accuracy: 0.9633 - val_loss: 0.1108 - val_accuracy: 0.9840\n",
            "Epoch 86/100\n",
            "12/12 [==============================] - 0s 3ms/step - loss: 0.1162 - accuracy: 0.9633 - val_loss: 0.1101 - val_accuracy: 0.9840\n",
            "Epoch 87/100\n",
            "12/12 [==============================] - 0s 4ms/step - loss: 0.1154 - accuracy: 0.9633 - val_loss: 0.1094 - val_accuracy: 0.9840\n",
            "Epoch 88/100\n",
            "12/12 [==============================] - 0s 4ms/step - loss: 0.1147 - accuracy: 0.9633 - val_loss: 0.1087 - val_accuracy: 0.9840\n",
            "Epoch 89/100\n",
            "12/12 [==============================] - 0s 4ms/step - loss: 0.1140 - accuracy: 0.9633 - val_loss: 0.1080 - val_accuracy: 0.9840\n",
            "Epoch 90/100\n",
            "12/12 [==============================] - 0s 3ms/step - loss: 0.1132 - accuracy: 0.9633 - val_loss: 0.1073 - val_accuracy: 0.9840\n",
            "Epoch 91/100\n",
            "12/12 [==============================] - 0s 4ms/step - loss: 0.1126 - accuracy: 0.9633 - val_loss: 0.1066 - val_accuracy: 0.9840\n",
            "Epoch 92/100\n",
            "12/12 [==============================] - 0s 3ms/step - loss: 0.1119 - accuracy: 0.9633 - val_loss: 0.1060 - val_accuracy: 0.9840\n",
            "Epoch 93/100\n",
            "12/12 [==============================] - 0s 3ms/step - loss: 0.1112 - accuracy: 0.9659 - val_loss: 0.1054 - val_accuracy: 0.9840\n",
            "Epoch 94/100\n",
            "12/12 [==============================] - 0s 4ms/step - loss: 0.1105 - accuracy: 0.9659 - val_loss: 0.1048 - val_accuracy: 0.9840\n",
            "Epoch 95/100\n",
            "12/12 [==============================] - 0s 5ms/step - loss: 0.1098 - accuracy: 0.9659 - val_loss: 0.1041 - val_accuracy: 0.9840\n",
            "Epoch 96/100\n",
            "12/12 [==============================] - 0s 3ms/step - loss: 0.1092 - accuracy: 0.9659 - val_loss: 0.1036 - val_accuracy: 0.9840\n",
            "Epoch 97/100\n",
            "12/12 [==============================] - 0s 3ms/step - loss: 0.1086 - accuracy: 0.9659 - val_loss: 0.1030 - val_accuracy: 0.9840\n",
            "Epoch 98/100\n",
            "12/12 [==============================] - 0s 3ms/step - loss: 0.1080 - accuracy: 0.9659 - val_loss: 0.1024 - val_accuracy: 0.9840\n",
            "Epoch 99/100\n",
            "12/12 [==============================] - 0s 4ms/step - loss: 0.1074 - accuracy: 0.9659 - val_loss: 0.1020 - val_accuracy: 0.9840\n",
            "Epoch 100/100\n",
            "12/12 [==============================] - 0s 3ms/step - loss: 0.1069 - accuracy: 0.9659 - val_loss: 0.1015 - val_accuracy: 0.9840\n"
          ]
        }
      ]
    },
    {
      "cell_type": "code",
      "source": [
        "print('Train score', model.evaluate(X_train, y_train))\n",
        "print('Test score', model.evaluate(X_test, y_test))"
      ],
      "metadata": {
        "colab": {
          "base_uri": "https://localhost:8080/"
        },
        "id": "H05cf8jV-yKn",
        "outputId": "68726a97-2d46-4dc9-d290-06cc27679806"
      },
      "execution_count": null,
      "outputs": [
        {
          "output_type": "stream",
          "name": "stdout",
          "text": [
            "12/12 [==============================] - 0s 1ms/step - loss: 0.1064 - accuracy: 0.9685\n",
            "Train score [0.1064305230975151, 0.9685039520263672]\n",
            "6/6 [==============================] - 0s 3ms/step - loss: 0.1015 - accuracy: 0.9840\n",
            "Test score [0.10147664695978165, 0.9840425252914429]\n"
          ]
        }
      ]
    },
    {
      "cell_type": "code",
      "source": [
        "import matplotlib.pyplot as plt\n",
        "plt.plot(R.history['loss'],label='loss')\n",
        "plt.plot(R.history['val_loss'],label='val_loss')\n",
        "plt.legend()"
      ],
      "metadata": {
        "colab": {
          "base_uri": "https://localhost:8080/",
          "height": 447
        },
        "id": "D8HWzx-__B5Y",
        "outputId": "9e2e0921-4a07-4b00-f05c-4f7a547f2821"
      },
      "execution_count": null,
      "outputs": [
        {
          "output_type": "execute_result",
          "data": {
            "text/plain": [
              "<matplotlib.legend.Legend at 0x7e2e8c641ba0>"
            ]
          },
          "metadata": {},
          "execution_count": 19
        },
        {
          "output_type": "display_data",
          "data": {
            "text/plain": [
              "<Figure size 640x480 with 1 Axes>"
            ],
            "image/png": "[encoded data removed]"
          },
          "metadata": {}
        }
      ]
    },
    {
      "cell_type": "code",
      "source": [
        "plt.plot(R.history['accuracy'],label='accuracy')\n",
        "plt.plot(R.history['val_accuracy'],label='val_accuracy')\n",
        "plt.legend()"
      ],
      "metadata": {
        "colab": {
          "base_uri": "https://localhost:8080/",
          "height": 447
        },
        "id": "XMIZYrun_NVk",
        "outputId": "1bcf710d-830a-4814-8654-1c1f09b9b36e"
      },
      "execution_count": null,
      "outputs": [
        {
          "output_type": "execute_result",
          "data": {
            "text/plain": [
              "<matplotlib.legend.Legend at 0x7e2e8f723130>"
            ]
          },
          "metadata": {},
          "execution_count": 20
        },
        {
          "output_type": "display_data",
          "data": {
            "text/plain": [
              "<Figure size 640x480 with 1 Axes>"
            ],
            "image/png": "[encoded data removed]"
          },
          "metadata": {}
        }
      ]
    },
    {
      "cell_type": "markdown",
      "source": [
        "**Making predictions**"
      ],
      "metadata": {
        "id": "xrqi5O1HHvAg"
      }
    },
    {
      "cell_type": "code",
      "source": [
        "P = model.predict(X_test)\n",
        "print(P)"
      ],
      "metadata": {
        "colab": {
          "base_uri": "https://localhost:8080/"
        },
        "id": "yhNxP_lJHkru",
        "outputId": "9fa51800-1b61-46fb-97e5-ac837000704e"
      },
      "execution_count": null,
      "outputs": [
        {
          "output_type": "stream",
          "name": "stdout",
          "text": [
            "6/6 [==============================] - 0s 1ms/step\n",
            "[[3.8549709e-01]\n",
            " [9.3692732e-01]\n",
            " [9.8360795e-01]\n",
            " [3.9999032e-01]\n",
            " [9.8840624e-01]\n",
            " [4.4851560e-02]\n",
            " [9.5407182e-01]\n",
            " [9.9195355e-01]\n",
            " [9.7249788e-01]\n",
            " [8.2795584e-01]\n",
            " [9.9407387e-01]\n",
            " [8.0542320e-01]\n",
            " [9.9846768e-01]\n",
            " [5.8503234e-04]\n",
            " [1.1645252e-01]\n",
            " [9.8350042e-01]\n",
            " [9.4298118e-01]\n",
            " [9.7385752e-01]\n",
            " [9.9607104e-01]\n",
            " [5.6972585e-05]\n",
            " [9.2717671e-01]\n",
            " [6.3279366e-01]\n",
            " [8.1779659e-02]\n",
            " [9.9303252e-01]\n",
            " [9.8578835e-01]\n",
            " [3.0995733e-01]\n",
            " [8.8070554e-01]\n",
            " [5.6757051e-02]\n",
            " [9.7507429e-01]\n",
            " [1.8176952e-02]\n",
            " [7.1014977e-01]\n",
            " [5.1554544e-03]\n",
            " [9.9384308e-01]\n",
            " [9.6207231e-01]\n",
            " [9.5625478e-04]\n",
            " [6.1931062e-01]\n",
            " [9.1705042e-01]\n",
            " [9.9855345e-01]\n",
            " [6.9068110e-01]\n",
            " [4.3831947e-01]\n",
            " [9.7381479e-01]\n",
            " [2.6035186e-02]\n",
            " [9.5742840e-01]\n",
            " [8.7282473e-01]\n",
            " [9.4124770e-01]\n",
            " [8.1058329e-01]\n",
            " [9.9841952e-01]\n",
            " [9.8344082e-01]\n",
            " [8.0082619e-01]\n",
            " [9.9172986e-01]\n",
            " [1.5483235e-01]\n",
            " [2.2998696e-02]\n",
            " [3.0630414e-04]\n",
            " [9.8015869e-01]\n",
            " [9.4830853e-01]\n",
            " [1.7523277e-03]\n",
            " [9.7620142e-01]\n",
            " [6.4917686e-03]\n",
            " [2.5425148e-01]\n",
            " [9.8243469e-01]\n",
            " [9.3546402e-01]\n",
            " [7.8041339e-01]\n",
            " [8.7225330e-01]\n",
            " [9.7139586e-05]\n",
            " [9.9612951e-01]\n",
            " [9.5651293e-01]\n",
            " [9.9114549e-01]\n",
            " [9.9543250e-01]\n",
            " [9.9351895e-01]\n",
            " [3.8021475e-01]\n",
            " [1.1120075e-07]\n",
            " [8.2769519e-01]\n",
            " [9.8231977e-01]\n",
            " [8.9126712e-01]\n",
            " [1.1597253e-02]\n",
            " [9.6199435e-01]\n",
            " [2.9320566e-03]\n",
            " [9.9997252e-01]\n",
            " [9.9593824e-01]\n",
            " [1.8458920e-06]\n",
            " [9.1600883e-01]\n",
            " [9.9858409e-01]\n",
            " [7.5997317e-01]\n",
            " [9.9932688e-01]\n",
            " [9.8912770e-01]\n",
            " [1.1047628e-03]\n",
            " [8.3751297e-03]\n",
            " [6.3794452e-01]\n",
            " [9.7731382e-01]\n",
            " [9.9978268e-01]\n",
            " [9.9515128e-01]\n",
            " [1.6242528e-02]\n",
            " [9.7361487e-01]\n",
            " [9.9979246e-01]\n",
            " [9.9005598e-01]\n",
            " [9.9575216e-01]\n",
            " [9.9855596e-01]\n",
            " [9.6819729e-01]\n",
            " [9.5873170e-02]\n",
            " [1.6247070e-01]\n",
            " [9.7743821e-01]\n",
            " [5.0573266e-01]\n",
            " [9.8954785e-01]\n",
            " [9.9733597e-01]\n",
            " [9.6300995e-01]\n",
            " [6.8138242e-01]\n",
            " [7.0293087e-01]\n",
            " [9.7090147e-02]\n",
            " [1.6711298e-02]\n",
            " [3.1436425e-02]\n",
            " [9.5421141e-01]\n",
            " [1.5811237e-07]\n",
            " [2.1202707e-01]\n",
            " [9.1982055e-01]\n",
            " [3.3585885e-01]\n",
            " [9.9758929e-01]\n",
            " [1.2562145e-02]\n",
            " [9.9260473e-01]\n",
            " [9.6035248e-01]\n",
            " [9.9846381e-01]\n",
            " [9.3072727e-02]\n",
            " [9.9437451e-01]\n",
            " [9.6500358e-03]\n",
            " [8.2045990e-01]\n",
            " [9.8403889e-01]\n",
            " [2.9566735e-01]\n",
            " [9.9750406e-01]\n",
            " [6.8955176e-04]\n",
            " [9.8804164e-01]\n",
            " [9.9853611e-01]\n",
            " [9.1823864e-01]\n",
            " [9.9711299e-01]\n",
            " [6.8961416e-04]\n",
            " [6.1914706e-01]\n",
            " [6.5452751e-04]\n",
            " [8.3336219e-02]\n",
            " [9.8393422e-01]\n",
            " [3.8934824e-05]\n",
            " [6.6247307e-02]\n",
            " [2.1501098e-02]\n",
            " [9.9280149e-01]\n",
            " [9.9684906e-01]\n",
            " [2.2959164e-03]\n",
            " [9.8486304e-01]\n",
            " [9.9390119e-01]\n",
            " [9.9774092e-01]\n",
            " [9.5816809e-01]\n",
            " [9.9838758e-01]\n",
            " [1.2027744e-01]\n",
            " [9.8635191e-01]\n",
            " [9.7526217e-01]\n",
            " [1.4425747e-05]\n",
            " [9.9757189e-01]\n",
            " [9.5972216e-01]\n",
            " [8.7787271e-01]\n",
            " [9.1661775e-01]\n",
            " [9.7305083e-01]\n",
            " [8.3500439e-01]\n",
            " [2.6910307e-03]\n",
            " [9.7174299e-01]\n",
            " [9.9899644e-01]\n",
            " [9.9475580e-01]\n",
            " [1.2179976e-01]\n",
            " [1.5627064e-02]\n",
            " [2.5130246e-02]\n",
            " [9.8271614e-01]\n",
            " [9.7950715e-01]\n",
            " [9.8106712e-01]\n",
            " [9.9087822e-01]\n",
            " [9.9974418e-01]\n",
            " [8.2037413e-01]\n",
            " [6.3733864e-01]\n",
            " [6.4198946e-05]\n",
            " [4.1941605e-03]\n",
            " [7.3316586e-01]\n",
            " [2.4630539e-05]\n",
            " [9.9834985e-01]\n",
            " [9.4160640e-01]\n",
            " [9.9968714e-01]\n",
            " [9.9475229e-01]\n",
            " [9.5522118e-01]\n",
            " [9.7811484e-01]\n",
            " [2.5294239e-03]\n",
            " [7.7848530e-01]\n",
            " [5.9291291e-01]\n",
            " [9.7667241e-01]\n",
            " [9.9272156e-01]\n",
            " [9.9780715e-01]]\n"
          ]
        }
      ]
    },
    {
      "cell_type": "code",
      "source": [
        "import numpy as np\n",
        "P = np.round(P).flatten()\n",
        "print(P)"
      ],
      "metadata": {
        "colab": {
          "base_uri": "https://localhost:8080/"
        },
        "id": "ZT0zV4KcIGgA",
        "outputId": "fd2cc561-152e-424f-f6c9-01af7f7dbfa5"
      },
      "execution_count": null,
      "outputs": [
        {
          "output_type": "stream",
          "name": "stdout",
          "text": [
            "[0. 1. 1. 0. 1. 0. 1. 1. 1. 1. 1. 1. 1. 0. 0. 1. 1. 1. 1. 0. 1. 1. 0. 1.\n",
            " 1. 0. 1. 0. 1. 0. 1. 0. 1. 1. 0. 1. 1. 1. 1. 0. 1. 0. 1. 1. 1. 1. 1. 1.\n",
            " 1. 1. 0. 0. 0. 1. 1. 0. 1. 0. 0. 1. 1. 1. 1. 0. 1. 1. 1. 1. 1. 0. 0. 1.\n",
            " 1. 1. 0. 1. 0. 1. 1. 0. 1. 1. 1. 1. 1. 0. 0. 1. 1. 1. 1. 0. 1. 1. 1. 1.\n",
            " 1. 1. 0. 0. 1. 1. 1. 1. 1. 1. 1. 0. 0. 0. 1. 0. 0. 1. 0. 1. 0. 1. 1. 1.\n",
            " 0. 1. 0. 1. 1. 0. 1. 0. 1. 1. 1. 1. 0. 1. 0. 0. 1. 0. 0. 0. 1. 1. 0. 1.\n",
            " 1. 1. 1. 1. 0. 1. 1. 0. 1. 1. 1. 1. 1. 1. 0. 1. 1. 1. 0. 0. 0. 1. 1. 1.\n",
            " 1. 1. 1. 1. 0. 0. 1. 0. 1. 1. 1. 1. 1. 1. 0. 1. 1. 1. 1. 1.]\n"
          ]
        }
      ]
    },
    {
      "cell_type": "code",
      "source": [
        "#calculate manually accuraccy\n",
        "print('Manually calculated acc:', np.mean( P == y_test))\n",
        "print('Evaluate model acc:', model.evaluate(X_test,y_test))"
      ],
      "metadata": {
        "colab": {
          "base_uri": "https://localhost:8080/"
        },
        "id": "9uBubWYzIaaJ",
        "outputId": "1f33862e-f55a-4503-e588-960b7c0ab7bc"
      },
      "execution_count": null,
      "outputs": [
        {
          "output_type": "stream",
          "name": "stdout",
          "text": [
            "Manually calculated acc: 0.9840425531914894\n",
            "6/6 [==============================] - 0s 2ms/step - loss: 0.1015 - accuracy: 0.9840\n",
            "Evaluate model acc: [0.10147664695978165, 0.9840425252914429]\n"
          ]
        }
      ]
    },
    {
      "cell_type": "markdown",
      "source": [
        "**Saving model**"
      ],
      "metadata": {
        "id": "g6KACdDKJ_43"
      }
    },
    {
      "cell_type": "code",
      "source": [
        "model.save('linearclassifier.keras')"
      ],
      "metadata": {
        "id": "J7UDdmDnJ-6z"
      },
      "execution_count": null,
      "outputs": []
    },
    {
      "cell_type": "code",
      "source": [
        "#check file in file system\n",
        "!ls -lh"
      ],
      "metadata": {
        "colab": {
          "base_uri": "https://localhost:8080/"
        },
        "id": "HtFNB-ZMKfM9",
        "outputId": "d40ab045-bff9-4520-a228-5a163f4e876b"
      },
      "execution_count": null,
      "outputs": [
        {
          "output_type": "stream",
          "name": "stdout",
          "text": [
            "total 44K\n",
            "-rw-r--r-- 1 root root  20K Oct  6 08:45 linearclassifier.h5\n",
            "-rw-r--r-- 1 root root  17K Oct  6 08:53 linearclassifier.keras\n",
            "drwxr-xr-x 1 root root 4.0K Oct  4 13:23 sample_data\n"
          ]
        }
      ]
    },
    {
      "cell_type": "code",
      "source": [
        "model_loaded = tf.keras.models.load_model('linearclassifier.keras')\n",
        "print(model_loaded.layers)\n",
        "model.evaluate(X_test,y_test)"
      ],
      "metadata": {
        "colab": {
          "base_uri": "https://localhost:8080/"
        },
        "id": "CcESJzBwKllC",
        "outputId": "99871b20-92c6-4bd9-8c4f-02cde4fccd5f"
      },
      "execution_count": null,
      "outputs": [
        {
          "output_type": "stream",
          "name": "stdout",
          "text": [
            "[<keras.src.layers.core.dense.Dense object at 0x7e2e8f61ad70>]\n",
            "6/6 [==============================] - 0s 1ms/step - loss: 0.1015 - accuracy: 0.9840\n"
          ]
        },
        {
          "output_type": "execute_result",
          "data": {
            "text/plain": [
              "[0.10147664695978165, 0.9840425252914429]"
            ]
          },
          "metadata": {},
          "execution_count": 31
        }
      ]
    }
  ]
}